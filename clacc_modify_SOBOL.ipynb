{
 "cells": [
  {
   "cell_type": "code",
   "execution_count": 6,
   "metadata": {},
   "outputs": [],
   "source": [
    "import numpy as np\n",
    "from sympy import totient\n",
    "import plotly.offline as pyo\n",
    "import plotly.graph_objs as go\n",
    "import sympy as sym\n",
    "from scipy.stats import qmc  \n",
    "import plotly.subplots as sp\n",
    "import matplotlib.pyplot as plt\n"
   ]
  },
  {
   "cell_type": "code",
   "execution_count": 7,
   "metadata": {},
   "outputs": [],
   "source": [
    "def graph_two(arr1, arr2, dimensions, names, colors):\n",
    "    d_1, d_2 = dimensions\n",
    "    \n",
    "    fig = sp.make_subplots(rows=1, cols=2, subplot_titles=names)\n",
    "    \n",
    "    for i, (arr, name, color) in enumerate(zip([arr1, arr2], names, colors), start=1):\n",
    "        fig.add_trace(go.Scatter(x=arr[:, d_1 - 1], y=arr[:, d_2 - 1], mode='markers',\n",
    "                                 marker=dict(size=8, line=dict(color='purple', width=1), color=color),\n",
    "                                 name=name),\n",
    "                      row=1, col=i)\n",
    "        \n",
    "        fig.update_xaxes(title_text=f'dim = {d_1}', row=1, col=i, title_font=dict(size=14))\n",
    "        fig.update_yaxes(title_text=f'dim = {d_2}', row=1, col=i, title_font=dict(size=14))\n",
    "    \n",
    "    fig.update_layout(\n",
    "        autosize=False,\n",
    "        width=900,\n",
    "        height=450,\n",
    "        plot_bgcolor='rgba(128, 128, 128, 0.2)',\n",
    "        paper_bgcolor='white'\n",
    "    )\n",
    "    \n",
    "    fig.show()\n",
    "    \n",
    "def graph_one_2D(arr, d_1, d_2, title: str, color: str):\n",
    "\n",
    "    \n",
    "    fig = go.Figure()\n",
    "    fig.add_trace(go.Scatter(x=arr[:,d_1-1], y=arr[:,d_2-1], mode='markers', line=dict(color=color)))\n",
    "    fig.update_layout(\n",
    "        title=title,\n",
    "        xaxis_title=f'dim={d_1}',\n",
    "        yaxis_title=f'dim={d_2}',\n",
    "        width=500,\n",
    "        height=500,\n",
    "        plot_bgcolor='rgba(128, 128, 128, 0.2)' \n",
    "    )\n",
    "    \n",
    "    fig.show()\n",
    "\n",
    "\n",
    "\n",
    "def graph_multiple(arr, dimensions_list, names, colors):\n",
    "    \n",
    "    num_graphs = len(dimensions_list)\n",
    "    rows = (num_graphs + 1) // 2  \n",
    "    cols = 2  \n",
    "\n",
    "    fig = sp.make_subplots(rows=rows, cols=cols, subplot_titles=names)\n",
    "    \n",
    "    for i, ((d_1, d_2), name, color) in enumerate(zip(dimensions_list, names, colors), start=1):\n",
    "        row = (i + 1) // 2\n",
    "        col = i % 2 if i % 2 != 0 else 2  \n",
    "\n",
    "   \n",
    "        fig.add_trace(go.Scatter(x=arr[:,d_1-1], y=arr[:,d_2-1], mode='markers', \n",
    "                                 marker=dict(size=8, line=dict(color='purple', width=1), color=color), \n",
    "                                 name=name),\n",
    "                      row=row, col=col)\n",
    "       \n",
    "        fig.update_xaxes(title_text=f'dim = {d_1}', row=row, col=col, title_font=dict(size=14))\n",
    "        fig.update_yaxes(title_text=f'dim = {d_2}', row=row, col=col, title_font=dict(size=14))\n",
    "        fig.update_layout(\n",
    "            autosize=False,\n",
    "            width=900,\n",
    "            height=900,\n",
    "            plot_bgcolor='rgba(128, 128, 128, 0.2)',  \n",
    "            paper_bgcolor='white'  \n",
    "        )\n",
    "\n",
    "    fig.show()"
   ]
  },
  {
   "cell_type": "code",
   "execution_count": 8,
   "metadata": {},
   "outputs": [],
   "source": [
    "class SobolSequences_G:\n",
    "    def __init__(self, name: str, dim: int, n0: int, m: int):\n",
    "        \"\"\"\n",
    "        Initializes the QuasiSequences class with the given parameters.\n",
    "\n",
    "        Args:\n",
    "            name (str): The name of the sequence ('sobol', 'sobol_farei', etc.)\n",
    "            dim (int): The dimensionality of the sequence.\n",
    "            n0 (int): The initial index of the sequence.\n",
    "            n (int): The number of points to generate.\n",
    "        \"\"\"\n",
    "        self.name = name\n",
    "        self.n0 = n0\n",
    "        self.npts = 2**m\n",
    "        self.dim = dim\n",
    "        self.b = 2\n",
    "        self.Y = self.get_Y()\n",
    "        \n",
    "    \n",
    "\n",
    "\n",
    "    def get_seq(self):\n",
    "        \n",
    "        if self.name == 'van_der_corput':\n",
    "            len_seq = int(self.Y .max())\n",
    "            seq = self.van_der_corput(len_seq)\n",
    "            return self.seq_pts(seq)\n",
    "            \n",
    "        elif self.name == 'farei':\n",
    "            len_seq = int(self.Y .max())\n",
    "            seq = self.farei(len_seq)            \n",
    "            return self.seq_pts(seq)\n",
    "            \n",
    "        else:\n",
    "            raise ValueError(f\"Unknown sequence name: {self.name}\")\n",
    "\n",
    "    def seq_pts(self, seq):\n",
    "        P = np.zeros((self.npts, self.dim))\n",
    "        for dim_i in range(self.dim):\n",
    "            # print('--------------------')\n",
    "            for n_i in range(self.npts):\n",
    "                y_i = int(self.Y [n_i][dim_i] - 1)\n",
    "                # print(f'y_i = {y_i}')\n",
    "                P[n_i][dim_i] = seq[y_i]\n",
    "        return P\n",
    "            \n",
    "\n",
    "    def b_ary(self, k: int) -> np.ndarray:\n",
    "        \"\"\"\n",
    "        Converts an integer k to a base-b representation.\n",
    "\n",
    "        Args:\n",
    "            k (int): The integer to convert (k >= 0).\n",
    "\n",
    "        Returns:\n",
    "            np.ndarray: A numpy array representing the base-b number.\n",
    "        \"\"\"\n",
    "        if k == 0:\n",
    "            return np.array([0])\n",
    "\n",
    "        a = []\n",
    "        j_max = int(np.log(k) / np.log(self.b))\n",
    "        a = np.zeros(j_max + 1, dtype=int)\n",
    "        q = self.b ** j_max\n",
    "        for j in range(0, j_max + 1):\n",
    "            a[j] = int(k / q)\n",
    "            k = k - q * a[j]\n",
    "            q = q // self.b\n",
    "        return a\n",
    "\n",
    "    def nextb_ary(self, a_in: np.ndarray) -> np.ndarray:\n",
    "        \"\"\"\n",
    "        Computes the next number in the base-b representation.\n",
    "\n",
    "        Args:\n",
    "            a_in (np.ndarray): Current base-b number.\n",
    "\n",
    "        Returns:\n",
    "            np.ndarray: The next base-b number.\n",
    "        \"\"\"\n",
    "        m = len(a_in)\n",
    "        carry = True\n",
    "        a_out = np.zeros(m, dtype=int)\n",
    "\n",
    "        for i in range(m - 1, -1, -1):\n",
    "            if carry:\n",
    "                if a_in[i] == self.b - 1:\n",
    "                    a_out[i] = 0\n",
    "                else:\n",
    "                    a_out[i] = a_in[i] + 1\n",
    "                    carry = False\n",
    "            else:\n",
    "                a_out[i] = a_in[i]\n",
    "\n",
    "        if carry:\n",
    "            a_out = np.insert(a_out, 0, 1)\n",
    "\n",
    "        return a_out\n",
    "\n",
    "    def find_c_vec(self, d: int) -> int:\n",
    "        \"\"\"\n",
    "        Reads a file and finds the s and a values for a given d, then converts them to a number.\n",
    "\n",
    "        Args:\n",
    "            d (int): The index of the row in the file.\n",
    "\n",
    "        Returns:\n",
    "            int: The converted value based on s and a.\n",
    "        \"\"\"\n",
    "        dir_file = 'C:/Users/Vlada/Desktop/Sirius/NIR/code/data_sobol.21201'\n",
    "        with open(dir_file, 'r') as infile:\n",
    "            lines = infile.readlines()\n",
    "            line = lines[d - 1].split()\n",
    "            s, a = map(int, line[1:3])\n",
    "            p = self.num_base_2(s, a)\n",
    "        return int(p)\n",
    "\n",
    "    def num_base_2(self, s: int, a: int) -> int:\n",
    "        \"\"\"\n",
    "        Converts the values s and a to a binary number.\n",
    "\n",
    "        Args:\n",
    "            s (int): Degree of the polynomial.\n",
    "            a (int): The integer to convert to binary.\n",
    "\n",
    "        Returns:\n",
    "            int: The decimal value of the modified binary representation.\n",
    "        \"\"\"\n",
    "        if s == 0 and a == 0:\n",
    "            num_a_2 = 1\n",
    "        else:\n",
    "            num_a = ''\n",
    "            while a > 0:\n",
    "                ost = a % 2\n",
    "                num_a += str(ost)\n",
    "                a //= 2\n",
    "\n",
    "            delta = s - len(str(num_a)) - 1\n",
    "            num_a = '1' + '0' * delta + num_a[::-1] + '1'\n",
    "            num_a_2 = self.binary_to_decimal(num_a)\n",
    "        return num_a_2\n",
    "\n",
    "    def binary_to_decimal(self, binary_str: str) -> int:\n",
    "        \"\"\"\n",
    "        Converts a binary string to a decimal integer.\n",
    "\n",
    "        Args:\n",
    "            binary_str (str): The binary string to convert.\n",
    "\n",
    "        Returns:\n",
    "            int: The decimal value of the binary string.\n",
    "        \"\"\"\n",
    "        decimal_num = 0\n",
    "        power = 0\n",
    "        for digit in binary_str[::-1]:\n",
    "            if digit == '1':\n",
    "                decimal_num += 2 ** power\n",
    "            power += 1\n",
    "        return decimal_num\n",
    "\n",
    "    def read_m(self, d: int) -> list[int]:\n",
    "        \"\"\"\n",
    "        Reads a file and returns the initial m_i values for a given d.\n",
    "\n",
    "        Args:\n",
    "            d (int): The index of the row in the file.\n",
    "\n",
    "        Returns:\n",
    "            list[int]: A list of integers representing the m_i values.\n",
    "        \"\"\"\n",
    "        if d == 1:\n",
    "            m = [1]\n",
    "        else:\n",
    "            dir_file = 'C:/Users/Vlada/Desktop/Sirius/NIR/code/Sobol/new-joe-kuo-6.21201'\n",
    "            with open(dir_file, 'r') as infile:\n",
    "                lines = infile.readlines()\n",
    "                line = lines[d - 1].split()\n",
    "                m = list(map(int, line[3:]))\n",
    "        return m\n",
    "\n",
    "    def generate_MJ(self, C_vec: list[int], minit: list[int], r: int) -> list[int]:\n",
    "        \"\"\"\n",
    "        Generates a sequence based on the C_vec coefficients and minit initial sequence.\n",
    "\n",
    "        Args:\n",
    "            C_vec (list[int]): A list of coefficients for the linear recurrence relation.\n",
    "            minit (list[int]): The initial sequence.\n",
    "            r (int): The desired length of the sequence.\n",
    "\n",
    "        Returns:\n",
    "            list[int]: The generated sequence.\n",
    "        \"\"\"\n",
    "        q = len(C_vec) - 1\n",
    "        sequence = minit[:]\n",
    "\n",
    "        for j in range(len(minit), r):\n",
    "            mj = 0\n",
    "            for i in range(q):\n",
    "                if C_vec[i]:\n",
    "                    a = ((2 ** (i + 1)) * C_vec[i] * sequence[j - (i + 1)])\n",
    "                    mj ^= a\n",
    "\n",
    "            mj ^= (sequence[j - q])\n",
    "            sequence.append(mj)\n",
    "\n",
    "        return sequence\n",
    "\n",
    "    def sobolmat(self, cvec: list[int], minit: list[int], r: int) -> np.ndarray:\n",
    "        \"\"\"\n",
    "        Generates a matrix based on the given coefficients and initial sequence.\n",
    "\n",
    "        Args:\n",
    "            cvec (list[int]): The coefficients for the recurrence relation.\n",
    "            minit (list[int]): The initial sequence.\n",
    "            r (int): The size of the resulting matrix.\n",
    "\n",
    "        Returns:\n",
    "            np.ndarray: The generated matrix.\n",
    "        \"\"\"\n",
    "        q = len(cvec) - 1\n",
    "        if q == 0:\n",
    "            V = np.eye(r, dtype=int)\n",
    "        else:\n",
    "            mvec = list(minit) + [0] * (r - len(minit))\n",
    "\n",
    "            for i in range(q, r):\n",
    "                m_next = 0\n",
    "                for l in range(q):\n",
    "                    if cvec[l]:\n",
    "                        m_next ^= ((2 ** (l + 1)) * cvec[l] * mvec[i - (l + 1)])\n",
    "\n",
    "                m_next ^= mvec[i - q]\n",
    "                mvec[i] = m_next\n",
    "\n",
    "            V = np.zeros((r, r), dtype=int)\n",
    "            for j in range(r):\n",
    "                m_bin = self.b_ary(mvec[j])\n",
    "                k = len(m_bin)\n",
    "                for i in range(k):\n",
    "                    V[j - i, j] = m_bin[k - i - 1]\n",
    "\n",
    "        return V\n",
    "\n",
    "  \n",
    "\n",
    "    def sobolpts(self) -> np.ndarray:\n",
    "        \"\"\"\n",
    "        Generates Sobol points based on the provided parameters.\n",
    "\n",
    "        Args:\n",
    "            n0 (int): The starting index for Sobol sequence.\n",
    "            npts (int): The number of points to generate.\n",
    "            d (int): The dimensionality of the points.\n",
    "            pvec (list[int]): A list of prime numbers used for generation.\n",
    "            mmat (np.ndarray): The initialization matrix.\n",
    "\n",
    "        Returns:\n",
    "            np.ndarray: The generated Sobol points.\n",
    "        \"\"\"\n",
    "        pvec = [1] + [self.find_c_vec(d) for d in range(2, self.dim + 1)]\n",
    "        mmat =  [[0]] + [self.read_m(d) for d in range(2, self.dim + 1)]\n",
    "        \n",
    "        nmax = self.n0 + self.npts - 1\n",
    "        rmax = 1 + int(np.log2(nmax))\n",
    "        P = np.zeros((self.npts, self.dim))\n",
    "        y = np.zeros(rmax, dtype=int)\n",
    "\n",
    "        r = (1 + int(np.log2(self.n0 - 1))) if self.n0 > 1 else 1\n",
    "        a = self.b_ary(self.n0 - 1)\n",
    "        qnext = 2 ** r\n",
    "\n",
    "        V_list = []\n",
    "\n",
    "        for i in range(self.dim):\n",
    "            q = int(np.log2(pvec[i]))\n",
    "            cvec = self.b_ary(pvec[i])\n",
    "            mj = mmat[i][:q]\n",
    "            V = self.sobolmat(cvec, mj, rmax)\n",
    "            V_list.append(V)\n",
    "\n",
    "        bpwrs = np.array([1 / (2 ** i) for i in range(1, rmax + 1)])\n",
    "\n",
    "        for k in range(self.npts):\n",
    "            a = self.nextb_ary(a)\n",
    "            if k + self.n0 == qnext:\n",
    "                r += 1\n",
    "                qnext *= 2\n",
    "\n",
    "            for j in range(r):\n",
    "                P[k, 0] += bpwrs[j] * a[r - j - 1]\n",
    "\n",
    "            for i in range(1, self.dim):\n",
    "                V = V_list[i]\n",
    "                for m in range(r):\n",
    "                    for n in range(r):\n",
    "                        y[m] += V[m, n] * a[r - n - 1]\n",
    "                    # print(f'y={y}') # сохранить y, (умножаем на 2**m)\n",
    "                    y[m] %= 2\n",
    "                    P[k, i] += bpwrs[m] * y[m]\n",
    "                    y[m] = 0\n",
    "                # print('------------------------------')\n",
    "\n",
    "        return P\n",
    "\n",
    "\n",
    "    def farei(self, len_seq):\n",
    "        # Находим минимальное n_farey, чтобы получить хотя бы len_seq элементов\n",
    "        n_farey = self.find_n_for_farey_length_binary(len_seq)\n",
    "        \n",
    "        result = []\n",
    "        \n",
    "        def farey_sequence_rec(x, y, z, t):\n",
    "            a, b = x + z, y + t\n",
    "            if b <= n_farey:\n",
    "                farey_sequence_rec(x, y, a, b)\n",
    "                if a != 0:\n",
    "                    result.append(a / b)\n",
    "                farey_sequence_rec(a, b, z, t)\n",
    "        \n",
    "       \n",
    "        farey_sequence_rec(0, 1, 1, 1)  # генерируем последовательность Фарея\n",
    "        result.append(1.0)  # завершающее значение 1.0\n",
    "        \n",
    "        # выбираем ровно len_seq элементов, равномерно распределённых\n",
    "        if len(result) > len_seq:\n",
    "            step = len(result) / len_seq\n",
    "            result = [result[int(i * step)] for i in range(len_seq)]\n",
    "        \n",
    "        return result\n",
    "        \n",
    "    def find_n_for_farey_length_binary(self, m):\n",
    "        def farey_length(n):\n",
    "            return  sum(totient(q) for q in range(1, n + 1))\n",
    "\n",
    "        low, high = 1, m+1\n",
    "        while low < high:\n",
    "            mid = (low + high) // 2\n",
    "            if farey_length(mid) < m:\n",
    "                low = mid + 1\n",
    "            else:\n",
    "                high = mid\n",
    "\n",
    "        return low\n",
    "\n",
    "\n",
    "\n",
    "\n",
    "    def get_Y(self) -> np.ndarray:\n",
    "\n",
    "        pvec = [1] + [self.find_c_vec(d) for d in range(2, self.dim + 1)]\n",
    "        mmat =  [[0]] + [self.read_m(d) for d in range(2, self.dim + 1)]\n",
    "        \n",
    "        nmax = self.n0 + self.npts - 1\n",
    "        rmax = 1 + int(np.log2(nmax))\n",
    "        Y_list = np.zeros((self.npts, self.dim))\n",
    "        y = np.zeros(rmax, dtype=int)\n",
    "\n",
    "        r = (1 + int(np.log2(self.n0 - 1))) if self.n0 > 1 else 1\n",
    "        a = self.b_ary(self.n0 - 1)\n",
    "        qnext = 2 ** r\n",
    "\n",
    "        V_list = []\n",
    "\n",
    "        for i in range(self.dim):\n",
    "            q = int(np.log2(pvec[i]))\n",
    "            cvec = self.b_ary(pvec[i])\n",
    "            mj = mmat[i][:q]\n",
    "            V = self.sobolmat(cvec, mj, rmax)\n",
    "            V_list.append(V)\n",
    "\n",
    "        bpwrs = np.array([(2 ** i) for i in range(0, rmax)])\n",
    "\n",
    "        for k in range(self.npts):\n",
    "            a = self.nextb_ary(a)\n",
    "            if k + self.n0 == qnext:\n",
    "                r += 1\n",
    "                qnext *= 2\n",
    "\n",
    "            for j in range(r):\n",
    "                Y_list[k, 0] += bpwrs[j] * a[r - j - 1]\n",
    "\n",
    "            for i in range(1, self.dim):\n",
    "                V = V_list[i]\n",
    "                for m in range(r):\n",
    "                    for n in range(r):\n",
    "                        y[m] += V[m, n] * a[r - n - 1]\n",
    "                    y[m] %= 2\n",
    "                    Y_list[k, i] += bpwrs[m] * y[m]\n",
    "                    y[m] = 0\n",
    "\n",
    "        return Y_list\n",
    "  \n",
    "    \n",
    "    def van_der_corput(self, len_seq):\n",
    "        A = np.zeros(len_seq)\n",
    "        \n",
    "        for k in range(len_seq):\n",
    "            a = self.b_ary(self.n0 + k)\n",
    "            A[k] = np.dot(a[::-1], 1 / (self.b ** np.arange(1, len(a) + 1)))\n",
    "        \n",
    "        return A\n",
    "    \n",
    "    \n",
    "      \n",
    "    \n",
    "  \n",
    "\n",
    "\n",
    "\n",
    "\n",
    "\n",
    "\n"
   ]
  },
  {
   "cell_type": "markdown",
   "metadata": {},
   "source": [
    "### Проверка нового способа "
   ]
  },
  {
   "cell_type": "code",
   "execution_count": null,
   "metadata": {},
   "outputs": [
    {
     "data": {
      "text/plain": [
       "0.0"
      ]
     },
     "execution_count": 28,
     "metadata": {},
     "output_type": "execute_result"
    }
   ],
   "source": [
    "name = 'van_der_corput'\n",
    "\n",
    "dim = 5\n",
    "n0 = 1\n",
    "m = 3\n",
    "seq = SobolSequences_G (name, dim, n0, m)\n",
    "\n",
    "p1 = seq.get_seq()\n",
    "p2 = seq.sobolpts()\n",
    "(p1-p2).max()"
   ]
  },
  {
   "cell_type": "code",
   "execution_count": null,
   "metadata": {},
   "outputs": [
    {
     "name": "stdout",
     "output_type": "stream",
     "text": [
      "sobolpts   0.08170956386445472\n",
      "NEW        0.08170956386445472\n"
     ]
    }
   ],
   "source": [
    "print(f'sobolpts   {qmc.discrepancy(p2)}')\n",
    "print(f'NEW        {qmc.discrepancy(p1)}')"
   ]
  },
  {
   "cell_type": "code",
   "execution_count": null,
   "metadata": {},
   "outputs": [
    {
     "data": {
      "application/vnd.plotly.v1+json": {
       "config": {
        "plotlyServerURL": "https://plot.ly"
       },
       "data": [
        {
         "marker": {
          "color": "blue",
          "line": {
           "color": "purple",
           "width": 1
          },
          "size": 8
         },
         "mode": "markers",
         "name": "sobolpts",
         "type": "scatter",
         "x": [
          0.5,
          0.25,
          0.75,
          0.125,
          0.625,
          0.375,
          0.875,
          0.4375
         ],
         "xaxis": "x",
         "y": [
          0.5,
          0.75,
          0.25,
          0.625,
          0.125,
          0.375,
          0.875,
          0.9375
         ],
         "yaxis": "y"
        },
        {
         "marker": {
          "color": "red",
          "line": {
           "color": "purple",
           "width": 1
          },
          "size": 8
         },
         "mode": "markers",
         "name": "NEW",
         "type": "scatter",
         "x": [
          0.5,
          0.25,
          0.75,
          0.125,
          0.625,
          0.375,
          0.875,
          0.4375
         ],
         "xaxis": "x2",
         "y": [
          0.5,
          0.75,
          0.25,
          0.625,
          0.125,
          0.375,
          0.875,
          0.9375
         ],
         "yaxis": "y2"
        }
       ],
       "layout": {
        "annotations": [
         {
          "font": {
           "size": 16
          },
          "showarrow": false,
          "text": "sobolpts",
          "x": 0.225,
          "xanchor": "center",
          "xref": "paper",
          "y": 1,
          "yanchor": "bottom",
          "yref": "paper"
         },
         {
          "font": {
           "size": 16
          },
          "showarrow": false,
          "text": "NEW",
          "x": 0.775,
          "xanchor": "center",
          "xref": "paper",
          "y": 1,
          "yanchor": "bottom",
          "yref": "paper"
         }
        ],
        "autosize": false,
        "height": 450,
        "paper_bgcolor": "white",
        "plot_bgcolor": "rgba(128, 128, 128, 0.2)",
        "template": {
         "data": {
          "bar": [
           {
            "error_x": {
             "color": "#2a3f5f"
            },
            "error_y": {
             "color": "#2a3f5f"
            },
            "marker": {
             "line": {
              "color": "#E5ECF6",
              "width": 0.5
             },
             "pattern": {
              "fillmode": "overlay",
              "size": 10,
              "solidity": 0.2
             }
            },
            "type": "bar"
           }
          ],
          "barpolar": [
           {
            "marker": {
             "line": {
              "color": "#E5ECF6",
              "width": 0.5
             },
             "pattern": {
              "fillmode": "overlay",
              "size": 10,
              "solidity": 0.2
             }
            },
            "type": "barpolar"
           }
          ],
          "carpet": [
           {
            "aaxis": {
             "endlinecolor": "#2a3f5f",
             "gridcolor": "white",
             "linecolor": "white",
             "minorgridcolor": "white",
             "startlinecolor": "#2a3f5f"
            },
            "baxis": {
             "endlinecolor": "#2a3f5f",
             "gridcolor": "white",
             "linecolor": "white",
             "minorgridcolor": "white",
             "startlinecolor": "#2a3f5f"
            },
            "type": "carpet"
           }
          ],
          "choropleth": [
           {
            "colorbar": {
             "outlinewidth": 0,
             "ticks": ""
            },
            "type": "choropleth"
           }
          ],
          "contour": [
           {
            "colorbar": {
             "outlinewidth": 0,
             "ticks": ""
            },
            "colorscale": [
             [
              0,
              "#0d0887"
             ],
             [
              0.1111111111111111,
              "#46039f"
             ],
             [
              0.2222222222222222,
              "#7201a8"
             ],
             [
              0.3333333333333333,
              "#9c179e"
             ],
             [
              0.4444444444444444,
              "#bd3786"
             ],
             [
              0.5555555555555556,
              "#d8576b"
             ],
             [
              0.6666666666666666,
              "#ed7953"
             ],
             [
              0.7777777777777778,
              "#fb9f3a"
             ],
             [
              0.8888888888888888,
              "#fdca26"
             ],
             [
              1,
              "#f0f921"
             ]
            ],
            "type": "contour"
           }
          ],
          "contourcarpet": [
           {
            "colorbar": {
             "outlinewidth": 0,
             "ticks": ""
            },
            "type": "contourcarpet"
           }
          ],
          "heatmap": [
           {
            "colorbar": {
             "outlinewidth": 0,
             "ticks": ""
            },
            "colorscale": [
             [
              0,
              "#0d0887"
             ],
             [
              0.1111111111111111,
              "#46039f"
             ],
             [
              0.2222222222222222,
              "#7201a8"
             ],
             [
              0.3333333333333333,
              "#9c179e"
             ],
             [
              0.4444444444444444,
              "#bd3786"
             ],
             [
              0.5555555555555556,
              "#d8576b"
             ],
             [
              0.6666666666666666,
              "#ed7953"
             ],
             [
              0.7777777777777778,
              "#fb9f3a"
             ],
             [
              0.8888888888888888,
              "#fdca26"
             ],
             [
              1,
              "#f0f921"
             ]
            ],
            "type": "heatmap"
           }
          ],
          "heatmapgl": [
           {
            "colorbar": {
             "outlinewidth": 0,
             "ticks": ""
            },
            "colorscale": [
             [
              0,
              "#0d0887"
             ],
             [
              0.1111111111111111,
              "#46039f"
             ],
             [
              0.2222222222222222,
              "#7201a8"
             ],
             [
              0.3333333333333333,
              "#9c179e"
             ],
             [
              0.4444444444444444,
              "#bd3786"
             ],
             [
              0.5555555555555556,
              "#d8576b"
             ],
             [
              0.6666666666666666,
              "#ed7953"
             ],
             [
              0.7777777777777778,
              "#fb9f3a"
             ],
             [
              0.8888888888888888,
              "#fdca26"
             ],
             [
              1,
              "#f0f921"
             ]
            ],
            "type": "heatmapgl"
           }
          ],
          "histogram": [
           {
            "marker": {
             "pattern": {
              "fillmode": "overlay",
              "size": 10,
              "solidity": 0.2
             }
            },
            "type": "histogram"
           }
          ],
          "histogram2d": [
           {
            "colorbar": {
             "outlinewidth": 0,
             "ticks": ""
            },
            "colorscale": [
             [
              0,
              "#0d0887"
             ],
             [
              0.1111111111111111,
              "#46039f"
             ],
             [
              0.2222222222222222,
              "#7201a8"
             ],
             [
              0.3333333333333333,
              "#9c179e"
             ],
             [
              0.4444444444444444,
              "#bd3786"
             ],
             [
              0.5555555555555556,
              "#d8576b"
             ],
             [
              0.6666666666666666,
              "#ed7953"
             ],
             [
              0.7777777777777778,
              "#fb9f3a"
             ],
             [
              0.8888888888888888,
              "#fdca26"
             ],
             [
              1,
              "#f0f921"
             ]
            ],
            "type": "histogram2d"
           }
          ],
          "histogram2dcontour": [
           {
            "colorbar": {
             "outlinewidth": 0,
             "ticks": ""
            },
            "colorscale": [
             [
              0,
              "#0d0887"
             ],
             [
              0.1111111111111111,
              "#46039f"
             ],
             [
              0.2222222222222222,
              "#7201a8"
             ],
             [
              0.3333333333333333,
              "#9c179e"
             ],
             [
              0.4444444444444444,
              "#bd3786"
             ],
             [
              0.5555555555555556,
              "#d8576b"
             ],
             [
              0.6666666666666666,
              "#ed7953"
             ],
             [
              0.7777777777777778,
              "#fb9f3a"
             ],
             [
              0.8888888888888888,
              "#fdca26"
             ],
             [
              1,
              "#f0f921"
             ]
            ],
            "type": "histogram2dcontour"
           }
          ],
          "mesh3d": [
           {
            "colorbar": {
             "outlinewidth": 0,
             "ticks": ""
            },
            "type": "mesh3d"
           }
          ],
          "parcoords": [
           {
            "line": {
             "colorbar": {
              "outlinewidth": 0,
              "ticks": ""
             }
            },
            "type": "parcoords"
           }
          ],
          "pie": [
           {
            "automargin": true,
            "type": "pie"
           }
          ],
          "scatter": [
           {
            "fillpattern": {
             "fillmode": "overlay",
             "size": 10,
             "solidity": 0.2
            },
            "type": "scatter"
           }
          ],
          "scatter3d": [
           {
            "line": {
             "colorbar": {
              "outlinewidth": 0,
              "ticks": ""
             }
            },
            "marker": {
             "colorbar": {
              "outlinewidth": 0,
              "ticks": ""
             }
            },
            "type": "scatter3d"
           }
          ],
          "scattercarpet": [
           {
            "marker": {
             "colorbar": {
              "outlinewidth": 0,
              "ticks": ""
             }
            },
            "type": "scattercarpet"
           }
          ],
          "scattergeo": [
           {
            "marker": {
             "colorbar": {
              "outlinewidth": 0,
              "ticks": ""
             }
            },
            "type": "scattergeo"
           }
          ],
          "scattergl": [
           {
            "marker": {
             "colorbar": {
              "outlinewidth": 0,
              "ticks": ""
             }
            },
            "type": "scattergl"
           }
          ],
          "scattermapbox": [
           {
            "marker": {
             "colorbar": {
              "outlinewidth": 0,
              "ticks": ""
             }
            },
            "type": "scattermapbox"
           }
          ],
          "scatterpolar": [
           {
            "marker": {
             "colorbar": {
              "outlinewidth": 0,
              "ticks": ""
             }
            },
            "type": "scatterpolar"
           }
          ],
          "scatterpolargl": [
           {
            "marker": {
             "colorbar": {
              "outlinewidth": 0,
              "ticks": ""
             }
            },
            "type": "scatterpolargl"
           }
          ],
          "scatterternary": [
           {
            "marker": {
             "colorbar": {
              "outlinewidth": 0,
              "ticks": ""
             }
            },
            "type": "scatterternary"
           }
          ],
          "surface": [
           {
            "colorbar": {
             "outlinewidth": 0,
             "ticks": ""
            },
            "colorscale": [
             [
              0,
              "#0d0887"
             ],
             [
              0.1111111111111111,
              "#46039f"
             ],
             [
              0.2222222222222222,
              "#7201a8"
             ],
             [
              0.3333333333333333,
              "#9c179e"
             ],
             [
              0.4444444444444444,
              "#bd3786"
             ],
             [
              0.5555555555555556,
              "#d8576b"
             ],
             [
              0.6666666666666666,
              "#ed7953"
             ],
             [
              0.7777777777777778,
              "#fb9f3a"
             ],
             [
              0.8888888888888888,
              "#fdca26"
             ],
             [
              1,
              "#f0f921"
             ]
            ],
            "type": "surface"
           }
          ],
          "table": [
           {
            "cells": {
             "fill": {
              "color": "#EBF0F8"
             },
             "line": {
              "color": "white"
             }
            },
            "header": {
             "fill": {
              "color": "#C8D4E3"
             },
             "line": {
              "color": "white"
             }
            },
            "type": "table"
           }
          ]
         },
         "layout": {
          "annotationdefaults": {
           "arrowcolor": "#2a3f5f",
           "arrowhead": 0,
           "arrowwidth": 1
          },
          "autotypenumbers": "strict",
          "coloraxis": {
           "colorbar": {
            "outlinewidth": 0,
            "ticks": ""
           }
          },
          "colorscale": {
           "diverging": [
            [
             0,
             "#8e0152"
            ],
            [
             0.1,
             "#c51b7d"
            ],
            [
             0.2,
             "#de77ae"
            ],
            [
             0.3,
             "#f1b6da"
            ],
            [
             0.4,
             "#fde0ef"
            ],
            [
             0.5,
             "#f7f7f7"
            ],
            [
             0.6,
             "#e6f5d0"
            ],
            [
             0.7,
             "#b8e186"
            ],
            [
             0.8,
             "#7fbc41"
            ],
            [
             0.9,
             "#4d9221"
            ],
            [
             1,
             "#276419"
            ]
           ],
           "sequential": [
            [
             0,
             "#0d0887"
            ],
            [
             0.1111111111111111,
             "#46039f"
            ],
            [
             0.2222222222222222,
             "#7201a8"
            ],
            [
             0.3333333333333333,
             "#9c179e"
            ],
            [
             0.4444444444444444,
             "#bd3786"
            ],
            [
             0.5555555555555556,
             "#d8576b"
            ],
            [
             0.6666666666666666,
             "#ed7953"
            ],
            [
             0.7777777777777778,
             "#fb9f3a"
            ],
            [
             0.8888888888888888,
             "#fdca26"
            ],
            [
             1,
             "#f0f921"
            ]
           ],
           "sequentialminus": [
            [
             0,
             "#0d0887"
            ],
            [
             0.1111111111111111,
             "#46039f"
            ],
            [
             0.2222222222222222,
             "#7201a8"
            ],
            [
             0.3333333333333333,
             "#9c179e"
            ],
            [
             0.4444444444444444,
             "#bd3786"
            ],
            [
             0.5555555555555556,
             "#d8576b"
            ],
            [
             0.6666666666666666,
             "#ed7953"
            ],
            [
             0.7777777777777778,
             "#fb9f3a"
            ],
            [
             0.8888888888888888,
             "#fdca26"
            ],
            [
             1,
             "#f0f921"
            ]
           ]
          },
          "colorway": [
           "#636efa",
           "#EF553B",
           "#00cc96",
           "#ab63fa",
           "#FFA15A",
           "#19d3f3",
           "#FF6692",
           "#B6E880",
           "#FF97FF",
           "#FECB52"
          ],
          "font": {
           "color": "#2a3f5f"
          },
          "geo": {
           "bgcolor": "white",
           "lakecolor": "white",
           "landcolor": "#E5ECF6",
           "showlakes": true,
           "showland": true,
           "subunitcolor": "white"
          },
          "hoverlabel": {
           "align": "left"
          },
          "hovermode": "closest",
          "mapbox": {
           "style": "light"
          },
          "paper_bgcolor": "white",
          "plot_bgcolor": "#E5ECF6",
          "polar": {
           "angularaxis": {
            "gridcolor": "white",
            "linecolor": "white",
            "ticks": ""
           },
           "bgcolor": "#E5ECF6",
           "radialaxis": {
            "gridcolor": "white",
            "linecolor": "white",
            "ticks": ""
           }
          },
          "scene": {
           "xaxis": {
            "backgroundcolor": "#E5ECF6",
            "gridcolor": "white",
            "gridwidth": 2,
            "linecolor": "white",
            "showbackground": true,
            "ticks": "",
            "zerolinecolor": "white"
           },
           "yaxis": {
            "backgroundcolor": "#E5ECF6",
            "gridcolor": "white",
            "gridwidth": 2,
            "linecolor": "white",
            "showbackground": true,
            "ticks": "",
            "zerolinecolor": "white"
           },
           "zaxis": {
            "backgroundcolor": "#E5ECF6",
            "gridcolor": "white",
            "gridwidth": 2,
            "linecolor": "white",
            "showbackground": true,
            "ticks": "",
            "zerolinecolor": "white"
           }
          },
          "shapedefaults": {
           "line": {
            "color": "#2a3f5f"
           }
          },
          "ternary": {
           "aaxis": {
            "gridcolor": "white",
            "linecolor": "white",
            "ticks": ""
           },
           "baxis": {
            "gridcolor": "white",
            "linecolor": "white",
            "ticks": ""
           },
           "bgcolor": "#E5ECF6",
           "caxis": {
            "gridcolor": "white",
            "linecolor": "white",
            "ticks": ""
           }
          },
          "title": {
           "x": 0.05
          },
          "xaxis": {
           "automargin": true,
           "gridcolor": "white",
           "linecolor": "white",
           "ticks": "",
           "title": {
            "standoff": 15
           },
           "zerolinecolor": "white",
           "zerolinewidth": 2
          },
          "yaxis": {
           "automargin": true,
           "gridcolor": "white",
           "linecolor": "white",
           "ticks": "",
           "title": {
            "standoff": 15
           },
           "zerolinecolor": "white",
           "zerolinewidth": 2
          }
         }
        },
        "width": 900,
        "xaxis": {
         "anchor": "y",
         "autorange": true,
         "domain": [
          0,
          0.45
         ],
         "range": [
          0.06805346730719866,
          0.9319465326928014
         ],
         "title": {
          "font": {
           "size": 14
          },
          "text": "dim = 5"
         },
         "type": "linear"
        },
        "xaxis2": {
         "anchor": "y2",
         "autorange": true,
         "domain": [
          0.55,
          1
         ],
         "range": [
          0.06805346730719866,
          0.9319465326928014
         ],
         "title": {
          "font": {
           "size": 14
          },
          "text": "dim = 5"
         },
         "type": "linear"
        },
        "yaxis": {
         "anchor": "x",
         "autorange": true,
         "domain": [
          0,
          1
         ],
         "range": [
          0.0604881974248927,
          1.0020118025751072
         ],
         "title": {
          "font": {
           "size": 14
          },
          "text": "dim = 2"
         },
         "type": "linear"
        },
        "yaxis2": {
         "anchor": "x2",
         "autorange": true,
         "domain": [
          0,
          1
         ],
         "range": [
          0.0604881974248927,
          1.0020118025751072
         ],
         "title": {
          "font": {
           "size": 14
          },
          "text": "dim = 2"
         },
         "type": "linear"
        }
       }
      },
      "image/png": "[encoded data removed]",
      "text/html": [
       "<div>                            <div id=\"8b5ef5be-64a5-48b6-8663-87fc4a07c6e5\" class=\"plotly-graph-div\" style=\"height:450px; width:900px;\"></div>            <script type=\"text/javascript\">                require([\"plotly\"], function(Plotly) {                    window.PLOTLYENV=window.PLOTLYENV || {};                                    if (document.getElementById(\"8b5ef5be-64a5-48b6-8663-87fc4a07c6e5\")) {                    Plotly.newPlot(                        \"8b5ef5be-64a5-48b6-8663-87fc4a07c6e5\",                        [{\"marker\":{\"color\":\"blue\",\"line\":{\"color\":\"purple\",\"width\":1},\"size\":8},\"mode\":\"markers\",\"name\":\"sobolpts\",\"x\":[0.5,0.25,0.75,0.125,0.625,0.375,0.875,0.4375],\"y\":[0.5,0.75,0.25,0.625,0.125,0.375,0.875,0.9375],\"type\":\"scatter\",\"xaxis\":\"x\",\"yaxis\":\"y\"},{\"marker\":{\"color\":\"red\",\"line\":{\"color\":\"purple\",\"width\":1},\"size\":8},\"mode\":\"markers\",\"name\":\"NEW\",\"x\":[0.5,0.25,0.75,0.125,0.625,0.375,0.875,0.4375],\"y\":[0.5,0.75,0.25,0.625,0.125,0.375,0.875,0.9375],\"type\":\"scatter\",\"xaxis\":\"x2\",\"yaxis\":\"y2\"}],                        {\"template\":{\"data\":{\"histogram2dcontour\":[{\"type\":\"histogram2dcontour\",\"colorbar\":{\"outlinewidth\":0,\"ticks\":\"\"},\"colorscale\":[[0.0,\"#0d0887\"],[0.1111111111111111,\"#46039f\"],[0.2222222222222222,\"#7201a8\"],[0.3333333333333333,\"#9c179e\"],[0.4444444444444444,\"#bd3786\"],[0.5555555555555556,\"#d8576b\"],[0.6666666666666666,\"#ed7953\"],[0.7777777777777778,\"#fb9f3a\"],[0.8888888888888888,\"#fdca26\"],[1.0,\"#f0f921\"]]}],\"choropleth\":[{\"type\":\"choropleth\",\"colorbar\":{\"outlinewidth\":0,\"ticks\":\"\"}}],\"histogram2d\":[{\"type\":\"histogram2d\",\"colorbar\":{\"outlinewidth\":0,\"ticks\":\"\"},\"colorscale\":[[0.0,\"#0d0887\"],[0.1111111111111111,\"#46039f\"],[0.2222222222222222,\"#7201a8\"],[0.3333333333333333,\"#9c179e\"],[0.4444444444444444,\"#bd3786\"],[0.5555555555555556,\"#d8576b\"],[0.6666666666666666,\"#ed7953\"],[0.7777777777777778,\"#fb9f3a\"],[0.8888888888888888,\"#fdca26\"],[1.0,\"#f0f921\"]]}],\"heatmap\":[{\"type\":\"heatmap\",\"colorbar\":{\"outlinewidth\":0,\"ticks\":\"\"},\"colorscale\":[[0.0,\"#0d0887\"],[0.1111111111111111,\"#46039f\"],[0.2222222222222222,\"#7201a8\"],[0.3333333333333333,\"#9c179e\"],[0.4444444444444444,\"#bd3786\"],[0.5555555555555556,\"#d8576b\"],[0.6666666666666666,\"#ed7953\"],[0.7777777777777778,\"#fb9f3a\"],[0.8888888888888888,\"#fdca26\"],[1.0,\"#f0f921\"]]}],\"heatmapgl\":[{\"type\":\"heatmapgl\",\"colorbar\":{\"outlinewidth\":0,\"ticks\":\"\"},\"colorscale\":[[0.0,\"#0d0887\"],[0.1111111111111111,\"#46039f\"],[0.2222222222222222,\"#7201a8\"],[0.3333333333333333,\"#9c179e\"],[0.4444444444444444,\"#bd3786\"],[0.5555555555555556,\"#d8576b\"],[0.6666666666666666,\"#ed7953\"],[0.7777777777777778,\"#fb9f3a\"],[0.8888888888888888,\"#fdca26\"],[1.0,\"#f0f921\"]]}],\"contourcarpet\":[{\"type\":\"contourcarpet\",\"colorbar\":{\"outlinewidth\":0,\"ticks\":\"\"}}],\"contour\":[{\"type\":\"contour\",\"colorbar\":{\"outlinewidth\":0,\"ticks\":\"\"},\"colorscale\":[[0.0,\"#0d0887\"],[0.1111111111111111,\"#46039f\"],[0.2222222222222222,\"#7201a8\"],[0.3333333333333333,\"#9c179e\"],[0.4444444444444444,\"#bd3786\"],[0.5555555555555556,\"#d8576b\"],[0.6666666666666666,\"#ed7953\"],[0.7777777777777778,\"#fb9f3a\"],[0.8888888888888888,\"#fdca26\"],[1.0,\"#f0f921\"]]}],\"surface\":[{\"type\":\"surface\",\"colorbar\":{\"outlinewidth\":0,\"ticks\":\"\"},\"colorscale\":[[0.0,\"#0d0887\"],[0.1111111111111111,\"#46039f\"],[0.2222222222222222,\"#7201a8\"],[0.3333333333333333,\"#9c179e\"],[0.4444444444444444,\"#bd3786\"],[0.5555555555555556,\"#d8576b\"],[0.6666666666666666,\"#ed7953\"],[0.7777777777777778,\"#fb9f3a\"],[0.8888888888888888,\"#fdca26\"],[1.0,\"#f0f921\"]]}],\"mesh3d\":[{\"type\":\"mesh3d\",\"colorbar\":{\"outlinewidth\":0,\"ticks\":\"\"}}],\"scatter\":[{\"fillpattern\":{\"fillmode\":\"overlay\",\"size\":10,\"solidity\":0.2},\"type\":\"scatter\"}],\"parcoords\":[{\"type\":\"parcoords\",\"line\":{\"colorbar\":{\"outlinewidth\":0,\"ticks\":\"\"}}}],\"scatterpolargl\":[{\"type\":\"scatterpolargl\",\"marker\":{\"colorbar\":{\"outlinewidth\":0,\"ticks\":\"\"}}}],\"bar\":[{\"error_x\":{\"color\":\"#2a3f5f\"},\"error_y\":{\"color\":\"#2a3f5f\"},\"marker\":{\"line\":{\"color\":\"#E5ECF6\",\"width\":0.5},\"pattern\":{\"fillmode\":\"overlay\",\"size\":10,\"solidity\":0.2}},\"type\":\"bar\"}],\"scattergeo\":[{\"type\":\"scattergeo\",\"marker\":{\"colorbar\":{\"outlinewidth\":0,\"ticks\":\"\"}}}],\"scatterpolar\":[{\"type\":\"scatterpolar\",\"marker\":{\"colorbar\":{\"outlinewidth\":0,\"ticks\":\"\"}}}],\"histogram\":[{\"marker\":{\"pattern\":{\"fillmode\":\"overlay\",\"size\":10,\"solidity\":0.2}},\"type\":\"histogram\"}],\"scattergl\":[{\"type\":\"scattergl\",\"marker\":{\"colorbar\":{\"outlinewidth\":0,\"ticks\":\"\"}}}],\"scatter3d\":[{\"type\":\"scatter3d\",\"line\":{\"colorbar\":{\"outlinewidth\":0,\"ticks\":\"\"}},\"marker\":{\"colorbar\":{\"outlinewidth\":0,\"ticks\":\"\"}}}],\"scattermapbox\":[{\"type\":\"scattermapbox\",\"marker\":{\"colorbar\":{\"outlinewidth\":0,\"ticks\":\"\"}}}],\"scatterternary\":[{\"type\":\"scatterternary\",\"marker\":{\"colorbar\":{\"outlinewidth\":0,\"ticks\":\"\"}}}],\"scattercarpet\":[{\"type\":\"scattercarpet\",\"marker\":{\"colorbar\":{\"outlinewidth\":0,\"ticks\":\"\"}}}],\"carpet\":[{\"aaxis\":{\"endlinecolor\":\"#2a3f5f\",\"gridcolor\":\"white\",\"linecolor\":\"white\",\"minorgridcolor\":\"white\",\"startlinecolor\":\"#2a3f5f\"},\"baxis\":{\"endlinecolor\":\"#2a3f5f\",\"gridcolor\":\"white\",\"linecolor\":\"white\",\"minorgridcolor\":\"white\",\"startlinecolor\":\"#2a3f5f\"},\"type\":\"carpet\"}],\"table\":[{\"cells\":{\"fill\":{\"color\":\"#EBF0F8\"},\"line\":{\"color\":\"white\"}},\"header\":{\"fill\":{\"color\":\"#C8D4E3\"},\"line\":{\"color\":\"white\"}},\"type\":\"table\"}],\"barpolar\":[{\"marker\":{\"line\":{\"color\":\"#E5ECF6\",\"width\":0.5},\"pattern\":{\"fillmode\":\"overlay\",\"size\":10,\"solidity\":0.2}},\"type\":\"barpolar\"}],\"pie\":[{\"automargin\":true,\"type\":\"pie\"}]},\"layout\":{\"autotypenumbers\":\"strict\",\"colorway\":[\"#636efa\",\"#EF553B\",\"#00cc96\",\"#ab63fa\",\"#FFA15A\",\"#19d3f3\",\"#FF6692\",\"#B6E880\",\"#FF97FF\",\"#FECB52\"],\"font\":{\"color\":\"#2a3f5f\"},\"hovermode\":\"closest\",\"hoverlabel\":{\"align\":\"left\"},\"paper_bgcolor\":\"white\",\"plot_bgcolor\":\"#E5ECF6\",\"polar\":{\"bgcolor\":\"#E5ECF6\",\"angularaxis\":{\"gridcolor\":\"white\",\"linecolor\":\"white\",\"ticks\":\"\"},\"radialaxis\":{\"gridcolor\":\"white\",\"linecolor\":\"white\",\"ticks\":\"\"}},\"ternary\":{\"bgcolor\":\"#E5ECF6\",\"aaxis\":{\"gridcolor\":\"white\",\"linecolor\":\"white\",\"ticks\":\"\"},\"baxis\":{\"gridcolor\":\"white\",\"linecolor\":\"white\",\"ticks\":\"\"},\"caxis\":{\"gridcolor\":\"white\",\"linecolor\":\"white\",\"ticks\":\"\"}},\"coloraxis\":{\"colorbar\":{\"outlinewidth\":0,\"ticks\":\"\"}},\"colorscale\":{\"sequential\":[[0.0,\"#0d0887\"],[0.1111111111111111,\"#46039f\"],[0.2222222222222222,\"#7201a8\"],[0.3333333333333333,\"#9c179e\"],[0.4444444444444444,\"#bd3786\"],[0.5555555555555556,\"#d8576b\"],[0.6666666666666666,\"#ed7953\"],[0.7777777777777778,\"#fb9f3a\"],[0.8888888888888888,\"#fdca26\"],[1.0,\"#f0f921\"]],\"sequentialminus\":[[0.0,\"#0d0887\"],[0.1111111111111111,\"#46039f\"],[0.2222222222222222,\"#7201a8\"],[0.3333333333333333,\"#9c179e\"],[0.4444444444444444,\"#bd3786\"],[0.5555555555555556,\"#d8576b\"],[0.6666666666666666,\"#ed7953\"],[0.7777777777777778,\"#fb9f3a\"],[0.8888888888888888,\"#fdca26\"],[1.0,\"#f0f921\"]],\"diverging\":[[0,\"#8e0152\"],[0.1,\"#c51b7d\"],[0.2,\"#de77ae\"],[0.3,\"#f1b6da\"],[0.4,\"#fde0ef\"],[0.5,\"#f7f7f7\"],[0.6,\"#e6f5d0\"],[0.7,\"#b8e186\"],[0.8,\"#7fbc41\"],[0.9,\"#4d9221\"],[1,\"#276419\"]]},\"xaxis\":{\"gridcolor\":\"white\",\"linecolor\":\"white\",\"ticks\":\"\",\"title\":{\"standoff\":15},\"zerolinecolor\":\"white\",\"automargin\":true,\"zerolinewidth\":2},\"yaxis\":{\"gridcolor\":\"white\",\"linecolor\":\"white\",\"ticks\":\"\",\"title\":{\"standoff\":15},\"zerolinecolor\":\"white\",\"automargin\":true,\"zerolinewidth\":2},\"scene\":{\"xaxis\":{\"backgroundcolor\":\"#E5ECF6\",\"gridcolor\":\"white\",\"linecolor\":\"white\",\"showbackground\":true,\"ticks\":\"\",\"zerolinecolor\":\"white\",\"gridwidth\":2},\"yaxis\":{\"backgroundcolor\":\"#E5ECF6\",\"gridcolor\":\"white\",\"linecolor\":\"white\",\"showbackground\":true,\"ticks\":\"\",\"zerolinecolor\":\"white\",\"gridwidth\":2},\"zaxis\":{\"backgroundcolor\":\"#E5ECF6\",\"gridcolor\":\"white\",\"linecolor\":\"white\",\"showbackground\":true,\"ticks\":\"\",\"zerolinecolor\":\"white\",\"gridwidth\":2}},\"shapedefaults\":{\"line\":{\"color\":\"#2a3f5f\"}},\"annotationdefaults\":{\"arrowcolor\":\"#2a3f5f\",\"arrowhead\":0,\"arrowwidth\":1},\"geo\":{\"bgcolor\":\"white\",\"landcolor\":\"#E5ECF6\",\"subunitcolor\":\"white\",\"showland\":true,\"showlakes\":true,\"lakecolor\":\"white\"},\"title\":{\"x\":0.05},\"mapbox\":{\"style\":\"light\"}}},\"xaxis\":{\"anchor\":\"y\",\"domain\":[0.0,0.45],\"title\":{\"font\":{\"size\":14},\"text\":\"dim = 5\"}},\"yaxis\":{\"anchor\":\"x\",\"domain\":[0.0,1.0],\"title\":{\"font\":{\"size\":14},\"text\":\"dim = 2\"}},\"xaxis2\":{\"anchor\":\"y2\",\"domain\":[0.55,1.0],\"title\":{\"font\":{\"size\":14},\"text\":\"dim = 5\"}},\"yaxis2\":{\"anchor\":\"x2\",\"domain\":[0.0,1.0],\"title\":{\"font\":{\"size\":14},\"text\":\"dim = 2\"}},\"annotations\":[{\"font\":{\"size\":16},\"showarrow\":false,\"text\":\"sobolpts\",\"x\":0.225,\"xanchor\":\"center\",\"xref\":\"paper\",\"y\":1.0,\"yanchor\":\"bottom\",\"yref\":\"paper\"},{\"font\":{\"size\":16},\"showarrow\":false,\"text\":\"NEW\",\"x\":0.775,\"xanchor\":\"center\",\"xref\":\"paper\",\"y\":1.0,\"yanchor\":\"bottom\",\"yref\":\"paper\"}],\"autosize\":false,\"width\":900,\"height\":450,\"plot_bgcolor\":\"rgba(128, 128, 128, 0.2)\",\"paper_bgcolor\":\"white\"},                        {\"responsive\": true}                    ).then(function(){\n",
       "                            \n",
       "var gd = document.getElementById('8b5ef5be-64a5-48b6-8663-87fc4a07c6e5');\n",
       "var x = new MutationObserver(function (mutations, observer) {{\n",
       "        var display = window.getComputedStyle(gd).display;\n",
       "        if (!display || display === 'none') {{\n",
       "            console.log([gd, 'removed!']);\n",
       "            Plotly.purge(gd);\n",
       "            observer.disconnect();\n",
       "        }}\n",
       "}});\n",
       "\n",
       "// Listen for the removal of the full notebook cells\n",
       "var notebookContainer = gd.closest('#notebook-container');\n",
       "if (notebookContainer) {{\n",
       "    x.observe(notebookContainer, {childList: true});\n",
       "}}\n",
       "\n",
       "// Listen for the clearing of the current output cell\n",
       "var outputEl = gd.closest('.output');\n",
       "if (outputEl) {{\n",
       "    x.observe(outputEl, {childList: true});\n",
       "}}\n",
       "\n",
       "                        })                };                });            </script>        </div>"
      ]
     },
     "metadata": {},
     "output_type": "display_data"
    }
   ],
   "source": [
    "graph_two(p1, p2, (5, 2), ['sobolpts', 'NEW'], ['blue', 'red'])"
   ]
  },
  {
   "cell_type": "markdown",
   "metadata": {},
   "source": [
    "---"
   ]
  },
  {
   "cell_type": "code",
   "execution_count": null,
   "metadata": {},
   "outputs": [
    {
     "data": {
      "text/plain": [
       "array([[ 1.,  1.,  1.,  1.,  1.],\n",
       "       [ 2.,  3.,  3.,  3.,  2.],\n",
       "       [ 3.,  2.,  2.,  2.,  3.],\n",
       "       [ 4.,  5.,  6.,  4.,  4.],\n",
       "       [ 5.,  4.,  7.,  5.,  5.],\n",
       "       [ 6.,  6.,  5.,  7.,  6.],\n",
       "       [ 7.,  7.,  4.,  6.,  7.],\n",
       "       [ 8., 15.,  9., 13., 14.]])"
      ]
     },
     "execution_count": 31,
     "metadata": {},
     "output_type": "execute_result"
    }
   ],
   "source": [
    "seq.get_Y()"
   ]
  }
 ],
 "metadata": {
  "colab": {
   "provenance": []
  },
  "kernelspec": {
   "display_name": "Python 3",
   "language": "python",
   "name": "python3"
  },
  "language_info": {
   "codemirror_mode": {
    "name": "ipython",
    "version": 3
   },
   "file_extension": ".py",
   "mimetype": "text/x-python",
   "name": "python",
   "nbconvert_exporter": "python",
   "pygments_lexer": "ipython3",
   "version": "3.12.1"
  }
 },
 "nbformat": 4,
 "nbformat_minor": 4
}
